{
  "cells": [
    {
      "cell_type": "code",
      "execution_count": 1,
      "metadata": {
        "colab": {
          "base_uri": "https://localhost:8080/"
        },
        "id": "RyCDzQDyW4Vq",
        "outputId": "207d3001-076c-4fdf-f80c-a337053aa75f"
      },
      "outputs": [
        {
          "output_type": "stream",
          "name": "stdout",
          "text": [
            "\u001b[2K     \u001b[90m━━━━━━━━━━━━━━━━━━━━━━━━━━━━━━━━━━━━━━━━\u001b[0m \u001b[32m803.3/803.3 kB\u001b[0m \u001b[31m4.5 MB/s\u001b[0m eta \u001b[36m0:00:00\u001b[0m\n",
            "\u001b[2K     \u001b[90m━━━━━━━━━━━━━━━━━━━━━━━━━━━━━━━━━━━━━━━━\u001b[0m \u001b[32m225.4/225.4 kB\u001b[0m \u001b[31m25.0 MB/s\u001b[0m eta \u001b[36m0:00:00\u001b[0m\n",
            "\u001b[2K     \u001b[90m━━━━━━━━━━━━━━━━━━━━━━━━━━━━━━━━━━━━━━━━\u001b[0m \u001b[32m469.0/469.0 kB\u001b[0m \u001b[31m30.0 MB/s\u001b[0m eta \u001b[36m0:00:00\u001b[0m\n",
            "\u001b[2K     \u001b[90m━━━━━━━━━━━━━━━━━━━━━━━━━━━━━━━━━━━━━━━━\u001b[0m \u001b[32m199.9/199.9 kB\u001b[0m \u001b[31m21.6 MB/s\u001b[0m eta \u001b[36m0:00:00\u001b[0m\n",
            "\u001b[2K     \u001b[90m━━━━━━━━━━━━━━━━━━━━━━━━━━━━━━━━━━━━━━━━\u001b[0m \u001b[32m2.0/2.0 MB\u001b[0m \u001b[31m25.1 MB/s\u001b[0m eta \u001b[36m0:00:00\u001b[0m\n",
            "\u001b[2K     \u001b[90m━━━━━━━━━━━━━━━━━━━━━━━━━━━━━━━━━━━━━━━━\u001b[0m \u001b[32m1.7/1.7 MB\u001b[0m \u001b[31m75.5 MB/s\u001b[0m eta \u001b[36m0:00:00\u001b[0m\n",
            "\u001b[2K     \u001b[90m━━━━━━━━━━━━━━━━━━━━━━━━━━━━━━━━━━━━━━━━\u001b[0m \u001b[32m246.4/246.4 kB\u001b[0m \u001b[31m27.3 MB/s\u001b[0m eta \u001b[36m0:00:00\u001b[0m\n",
            "\u001b[2K     \u001b[90m━━━━━━━━━━━━━━━━━━━━━━━━━━━━━━━━━━━━━━━━\u001b[0m \u001b[32m56.5/56.5 kB\u001b[0m \u001b[31m7.1 MB/s\u001b[0m eta \u001b[36m0:00:00\u001b[0m\n",
            "\u001b[2K     \u001b[90m━━━━━━━━━━━━━━━━━━━━━━━━━━━━━━━━━━━━━━━━\u001b[0m \u001b[32m75.6/75.6 kB\u001b[0m \u001b[31m8.4 MB/s\u001b[0m eta \u001b[36m0:00:00\u001b[0m\n",
            "\u001b[2K     \u001b[90m━━━━━━━━━━━━━━━━━━━━━━━━━━━━━━━━━━━━━━━━\u001b[0m \u001b[32m110.5/110.5 kB\u001b[0m \u001b[31m13.6 MB/s\u001b[0m eta \u001b[36m0:00:00\u001b[0m\n",
            "\u001b[2K     \u001b[90m━━━━━━━━━━━━━━━━━━━━━━━━━━━━━━━━━━━━━━━━\u001b[0m \u001b[32m134.8/134.8 kB\u001b[0m \u001b[31m14.1 MB/s\u001b[0m eta \u001b[36m0:00:00\u001b[0m\n",
            "\u001b[2K     \u001b[90m━━━━━━━━━━━━━━━━━━━━━━━━━━━━━━━━━━━━━━━━\u001b[0m \u001b[32m49.4/49.4 kB\u001b[0m \u001b[31m5.9 MB/s\u001b[0m eta \u001b[36m0:00:00\u001b[0m\n",
            "\u001b[2K     \u001b[90m━━━━━━━━━━━━━━━━━━━━━━━━━━━━━━━━━━━━━━━━\u001b[0m \u001b[32m77.8/77.8 kB\u001b[0m \u001b[31m9.2 MB/s\u001b[0m eta \u001b[36m0:00:00\u001b[0m\n",
            "\u001b[2K     \u001b[90m━━━━━━━━━━━━━━━━━━━━━━━━━━━━━━━━━━━━━━━━\u001b[0m \u001b[32m58.3/58.3 kB\u001b[0m \u001b[31m7.8 MB/s\u001b[0m eta \u001b[36m0:00:00\u001b[0m\n",
            "\u001b[2K     \u001b[90m━━━━━━━━━━━━━━━━━━━━━━━━━━━━━━━━━━━━━━━━\u001b[0m \u001b[32m1.7/1.7 MB\u001b[0m \u001b[31m60.0 MB/s\u001b[0m eta \u001b[36m0:00:00\u001b[0m\n",
            "\u001b[2K     \u001b[90m━━━━━━━━━━━━━━━━━━━━━━━━━━━━━━━━━━━━━━━━\u001b[0m \u001b[32m1.7/1.7 MB\u001b[0m \u001b[31m58.3 MB/s\u001b[0m eta \u001b[36m0:00:00\u001b[0m\n",
            "\u001b[2K     \u001b[90m━━━━━━━━━━━━━━━━━━━━━━━━━━━━━━━━━━━━━━━━\u001b[0m \u001b[32m1.7/1.7 MB\u001b[0m \u001b[31m64.0 MB/s\u001b[0m eta \u001b[36m0:00:00\u001b[0m\n",
            "\u001b[2K     \u001b[90m━━━━━━━━━━━━━━━━━━━━━━━━━━━━━━━━━━━━━━━━\u001b[0m \u001b[32m1.7/1.7 MB\u001b[0m \u001b[31m55.5 MB/s\u001b[0m eta \u001b[36m0:00:00\u001b[0m\n",
            "\u001b[2K     \u001b[90m━━━━━━━━━━━━━━━━━━━━━━━━━━━━━━━━━━━━━━━━\u001b[0m \u001b[32m242.1/242.1 kB\u001b[0m \u001b[31m27.8 MB/s\u001b[0m eta \u001b[36m0:00:00\u001b[0m\n",
            "\u001b[2K     \u001b[90m━━━━━━━━━━━━━━━━━━━━━━━━━━━━━━━━━━━━━━━━\u001b[0m \u001b[32m241.3/241.3 kB\u001b[0m \u001b[31m25.1 MB/s\u001b[0m eta \u001b[36m0:00:00\u001b[0m\n",
            "\u001b[2K     \u001b[90m━━━━━━━━━━━━━━━━━━━━━━━━━━━━━━━━━━━━━━━━\u001b[0m \u001b[32m241.2/241.2 kB\u001b[0m \u001b[31m25.2 MB/s\u001b[0m eta \u001b[36m0:00:00\u001b[0m\n",
            "\u001b[2K     \u001b[90m━━━━━━━━━━━━━━━━━━━━━━━━━━━━━━━━━━━━━━━━\u001b[0m \u001b[32m55.4/55.4 kB\u001b[0m \u001b[31m6.2 MB/s\u001b[0m eta \u001b[36m0:00:00\u001b[0m\n",
            "\u001b[2K     \u001b[90m━━━━━━━━━━━━━━━━━━━━━━━━━━━━━━━━━━━━━━━━\u001b[0m \u001b[32m134.8/134.8 kB\u001b[0m \u001b[31m12.2 MB/s\u001b[0m eta \u001b[36m0:00:00\u001b[0m\n",
            "\u001b[2K     \u001b[90m━━━━━━━━━━━━━━━━━━━━━━━━━━━━━━━━━━━━━━━━\u001b[0m \u001b[32m134.3/134.3 kB\u001b[0m \u001b[31m15.6 MB/s\u001b[0m eta \u001b[36m0:00:00\u001b[0m\n",
            "\u001b[?25h"
          ]
        }
      ],
      "source": [
        "!pip install -qU \\\n",
        "    langchain==0.0.354 \\\n",
        "    openai==1.6.1 \\\n",
        "    datasets==2.10.1 \\\n",
        "    pinecone-client==3.0.0 \\\n",
        "    tiktoken==0.5.2"
      ]
    },
    {
      "cell_type": "code",
      "execution_count": 22,
      "metadata": {
        "id": "EBC1-Yg0XLT4"
      },
      "outputs": [],
      "source": [
        "import os\n",
        "from langchain.chat_models import ChatOpenAI\n",
        "\n",
        "os.environ[\"c\"] = os.getenv(\"Openai-api-key\") or \"Openai-api-key\"\n",
        "\n",
        "\n",
        "chat = ChatOpenAI(\n",
        "    openai_api_key = os.environ[\"Openai-api-key\"],\n",
        "    model = 'gpt-3.5-turbo'\n",
        ")"
      ]
    },
    {
      "cell_type": "code",
      "source": [
        "from langchain.schema import (\n",
        "    SystemMessage,\n",
        "    HumanMessage,\n",
        "    AIMessage\n",
        ")\n",
        "\n",
        "messages = [\n",
        "    SystemMessage(content=\"You are a helpful assistant.\"),\n",
        "    HumanMessage(content=\"Hi AI, how are you today?\"),\n",
        "    AIMessage(content=\"I'm great thank you. How can I help you?\"),\n",
        "    HumanMessage(content=\"I'd like to ask few questions about bhagavad gita.\")\n",
        "]"
      ],
      "metadata": {
        "id": "7soMMzfZuviq"
      },
      "execution_count": 24,
      "outputs": []
    },
    {
      "cell_type": "code",
      "source": [
        "res = chat(messages)\n",
        "res"
      ],
      "metadata": {
        "colab": {
          "base_uri": "https://localhost:8080/"
        },
        "id": "Fip8S-pduw_Y",
        "outputId": "2fa72a1c-070c-4830-89b0-04485a45a8ff"
      },
      "execution_count": 25,
      "outputs": [
        {
          "output_type": "execute_result",
          "data": {
            "text/plain": [
              "AIMessage(content=\"Of course! I'll do my best to help you with your questions about the Bhagavad Gita. What would you like to know?\")"
            ]
          },
          "metadata": {},
          "execution_count": 25
        }
      ]
    },
    {
      "cell_type": "code",
      "source": [
        "print(res.content)"
      ],
      "metadata": {
        "colab": {
          "base_uri": "https://localhost:8080/"
        },
        "id": "3QcDY45lvCOd",
        "outputId": "3eb21b06-619c-440b-8af2-6eeb1dd15c62"
      },
      "execution_count": 26,
      "outputs": [
        {
          "output_type": "stream",
          "name": "stdout",
          "text": [
            "Of course! I'll do my best to help you with your questions about the Bhagavad Gita. What would you like to know?\n"
          ]
        }
      ]
    },
    {
      "cell_type": "code",
      "source": [
        "messages.append(res)\n",
        "\n",
        "prompt = HumanMessage(\n",
        "    content=\"Why does Kauravas and Pandavas start a war against each other?\"\n",
        ")\n",
        "# add to messages\n",
        "messages.append(prompt)\n",
        "\n",
        "# send to chat-gpt\n",
        "res = chat(messages)\n",
        "\n",
        "print(res.content)"
      ],
      "metadata": {
        "colab": {
          "base_uri": "https://localhost:8080/"
        },
        "id": "vketcmjavFzp",
        "outputId": "d7ca5792-740f-46af-f972-62600481541f"
      },
      "execution_count": 27,
      "outputs": [
        {
          "output_type": "stream",
          "name": "stdout",
          "text": [
            "The conflict between the Kauravas and Pandavas that led to the Kurukshetra War in the Bhagavad Gita is rooted in a complex family feud and struggle for power. The Kauravas and Pandavas were cousins and heirs to the throne of the Kuru kingdom. However, due to various reasons such as jealousy, greed, and manipulation, the Kauravas wrongfully denied the Pandavas their rightful share of the kingdom. This injustice and mistreatment ultimately led to a series of events that escalated into a full-scale war between the two sides.\n"
          ]
        }
      ]
    },
    {
      "cell_type": "code",
      "execution_count": 5,
      "metadata": {
        "id": "DS3AlqnAH7c6"
      },
      "outputs": [],
      "source": [
        "from pinecone import Pinecone\n",
        "api_key  = os.getenv(\"Pinecone-api-key\") or \"Pinecone-api-key\"\n",
        "pc = Pinecone(api_key = api_key)"
      ]
    },
    {
      "cell_type": "code",
      "execution_count": null,
      "metadata": {
        "id": "JUDHI_tVI1O3"
      },
      "outputs": [],
      "source": [
        "# for serverless"
      ]
    },
    {
      "cell_type": "code",
      "execution_count": 6,
      "metadata": {
        "colab": {
          "base_uri": "https://localhost:8080/"
        },
        "id": "rxBFzGsueAIW",
        "outputId": "46ac5ca2-7070-4c1c-a89d-a98d57dab97c"
      },
      "outputs": [
        {
          "output_type": "stream",
          "name": "stdout",
          "text": [
            "{'indexes': [{'dimension': 1536,\n",
            "              'host': 'canopy--document-uploader-ko6o9j9.svc.gcp-starter.pinecone.io',\n",
            "              'metric': 'cosine',\n",
            "              'name': 'canopy--document-uploader',\n",
            "              'spec': {'pod': {'environment': 'gcp-starter',\n",
            "                               'metadata_config': {'indexed': ['document_id']},\n",
            "                               'pod_type': 'starter',\n",
            "                               'pods': 1,\n",
            "                               'replicas': 1,\n",
            "                               'shards': 1,\n",
            "                               'source_collection': ''}},\n",
            "              'status': {'ready': True, 'state': 'Ready'}}]}\n"
          ]
        }
      ],
      "source": [
        "print(pc.list_indexes())"
      ]
    },
    {
      "cell_type": "code",
      "execution_count": 7,
      "metadata": {
        "colab": {
          "base_uri": "https://localhost:8080/"
        },
        "id": "442V9CZWfOId",
        "outputId": "6a9b6614-9ea3-440e-dc7f-feb1ab2205fc"
      },
      "outputs": [
        {
          "output_type": "execute_result",
          "data": {
            "text/plain": [
              "{'dimension': 1536,\n",
              " 'index_fullness': 0.00161,\n",
              " 'namespaces': {'': {'vector_count': 161}},\n",
              " 'total_vector_count': 161}"
            ]
          },
          "metadata": {},
          "execution_count": 7
        }
      ],
      "source": [
        "import time\n",
        "from pinecone import PodSpec\n",
        "index_name = \"canopy--document-uploader\"\n",
        "existing_indexes = [\n",
        "    index_info[\"name\"] for index_info in pc.list_indexes()\n",
        "\n",
        "]\n",
        "index = pc.Index(index_name)\n",
        "time.sleep(1)\n",
        "index.describe_index_stats()\n"
      ]
    },
    {
      "cell_type": "code",
      "execution_count": 12,
      "metadata": {
        "id": "0ij1wtRFkVCE"
      },
      "outputs": [],
      "source": [
        "# Set the OpenAI API key from environment variable or provide a default value\n",
        "import os\n",
        "from langchain.chat_models import ChatOpenAI\n",
        "openai_api_key = os.getenv(\"Openai-api-key\") or \"Openai-api-key\""
      ]
    },
    {
      "cell_type": "code",
      "execution_count": 13,
      "metadata": {
        "id": "Jmt2FzB_iH8u"
      },
      "outputs": [],
      "source": [
        "from langchain.embeddings.openai import OpenAIEmbeddings\n",
        "\n",
        "embed_model = OpenAIEmbeddings(model=\"text-embedding-ada-002\", openai_api_key = \"Openai-api-key\" )"
      ]
    },
    {
      "cell_type": "code",
      "execution_count": 14,
      "metadata": {
        "colab": {
          "base_uri": "https://localhost:8080/"
        },
        "id": "aQIQcGpqivXx",
        "outputId": "d34667ca-3545-4b04-8719-307f5a8b4ed1"
      },
      "outputs": [
        {
          "output_type": "execute_result",
          "data": {
            "text/plain": [
              "(2, 1536)"
            ]
          },
          "metadata": {},
          "execution_count": 14
        }
      ],
      "source": [
        "texts = [\n",
        "    \"This is the first chapter of GITA\",\n",
        "    \"This is the second Chapter of GITA\"\n",
        "]\n",
        "res = embed_model.embed_documents(texts)\n",
        "len(res), len(res[0])"
      ]
    },
    {
      "cell_type": "code",
      "execution_count": 15,
      "metadata": {
        "id": "iNrgK7rx6dVf",
        "colab": {
          "base_uri": "https://localhost:8080/"
        },
        "outputId": "cfb7c3f4-f168-432a-8479-445324c391bf"
      },
      "outputs": [
        {
          "output_type": "execute_result",
          "data": {
            "text/plain": [
              "{'dimension': 1536,\n",
              " 'index_fullness': 0.00161,\n",
              " 'namespaces': {'': {'vector_count': 161}},\n",
              " 'total_vector_count': 161}"
            ]
          },
          "metadata": {},
          "execution_count": 15
        }
      ],
      "source": [
        "index.describe_index_stats()"
      ]
    },
    {
      "cell_type": "code",
      "source": [
        "from langchain.vectorstores import Pinecone\n",
        "\n",
        "text_field = \"text\"\n",
        "\n",
        "vectorstore = Pinecone(\n",
        "    index, embed_model.embed_query, text_field\n",
        ")"
      ],
      "metadata": {
        "id": "e0Elf79ss3MO"
      },
      "execution_count": 16,
      "outputs": []
    },
    {
      "cell_type": "code",
      "source": [
        "query = \"What does bhagavadgita teach you?\"\n",
        "vectorstore.similarity_search(query, k=3)"
      ],
      "metadata": {
        "colab": {
          "base_uri": "https://localhost:8080/"
        },
        "id": "z1dh1JjjtGOk",
        "outputId": "4988e7e6-6229-496c-c21b-4b1c7dfa413a"
      },
      "execution_count": 17,
      "outputs": [
        {
          "output_type": "execute_result",
          "data": {
            "text/plain": [
              "[Document(page_content=\"everywhere”     (The Vedas)  INTRODUCTION  The Bhagavad-Gita is a doctrine of universal truth and a book  of moral and spiritual growth. Its message is sublime and non-sec- tarian. It deals with the most sacred metaphysical science. It im- parts the knowledge of the Self and answers two universal ques- tions: Who am I, and how can I lead a happy and peaceful life in  this word full of dualities and dilemmas?   It's a timeless book of wisdom that inspired Thoreau, Emerson,  Einstein, Oppenheimer, Gandhi and many others. The Bhagavad- Gita teaches us how to equip ourselves for the battle of life. A re- peated study with faith purifies our psyche and guides us to face  the challenges of modern living leading to inner peace and happi- ness.  Gita teaches the spiritual science of Self-realization (SR) based  on the essence of Upanishads and Vedanta. The prime message  of the Gita is: The ultimate purpose of life is to realize one’s essen- tial nature and become one with the Supreme Self within all of us.  It assures spiritual progress for all\", metadata={'document_id': '1859acc0-09e0-4137-a6cc-65d436d45576', 'source': 'bhagavad-gita-verses.pdf'}),\n",
              " Document(page_content='BHAGAVAD-GITA in ENGLISH (Source)  For commentaries:  https://www.gita-society.com/Read-bhagavad-gita.html  CONTENTS  INTRODUCTION ...................................................... 1  1. Arjuna’s Dilemma .................................................. 3  2. Spiritual knowledge................................................ 3  The spirit is eternal, body is transitory ........................ 4  Death and Reincarnation of the soul .......................... 4  Duty of a warrior ......................................................... 5  Importance of Karma-yoga, the selfless action .......... 5  Material and spiritual aspects of life ........................... 6  Theory and practice of Karma-yoga ........................... 6  Marks of a Self-realized person .................................. 7  Dangers of unrestrained senses ................................ 7  Peace through sense control and Self-knowledge ..... 7  3. Path of Selfless service, Karma-yoga .................... 8  Why one should serve others? ................................... 8  The first commandment of the creator ....................... 9  Leaders should set an example ................................. 9  All works are the works of Nature ............................. 10  Two stumbling blocks on the path', metadata={'document_id': '1859acc0-09e0-4137-a6cc-65d436d45576', 'source': 'bhagavad-gita-verses.pdf'}),\n",
              " Document(page_content='humans, and how to be one with  the Supreme. Its teachings are profound, universal, uplifting, and  sublime.   The  ignorance  of  metaphysical  or  Spiritual  knowledge—not  knowing our real identity—is humanity’s greatest predicament. It is  said that there is no human mind that cannot be purified by a re- peated study of the Gita. Gita explains the basic principles of spir- itual science— using Sanskrit poetry— in a very clear and inspiring  manner. Sacred relationship between the Creator and the creation  is well established in the Gita. If one lives in the spirit of even a few  verses of the Gita, one’s life will be transformed into divinity.   The philosophy of duty, devotion and Self-knowledge is won- derfully synthesized and harmonized in the Gita—without creating  any conflict among them—to give the reader eternal bliss, everlast- ing peace and perennial joy in life. It awakens Cosmic Conscious- ness and stimulates life with spirituality. Religion tends to create a  wall of division and conflicts along religious lines. Whereas, spirit- uality unites people by breaking those walls. A spiritual person is a', metadata={'document_id': '1859acc0-09e0-4137-a6cc-65d436d45576', 'source': 'bhagavad-gita-verses.pdf'})]"
            ]
          },
          "metadata": {},
          "execution_count": 17
        }
      ]
    },
    {
      "cell_type": "code",
      "source": [
        "def augment_prompt(query: str):\n",
        "  results = vectorstore.similarity_search(query, k=3)\n",
        "  source_knowledge = \"\\n\".join([x.page_content for x in results])\n",
        "  augmented_prompt = f\"\"\"Using the contexts below, answer the query.\n",
        "\n",
        "  Contexts:\n",
        "  {source_knowledge}\n",
        "\n",
        "  Query: {query}\"\"\"\n",
        "  return augmented_prompt"
      ],
      "metadata": {
        "id": "kP5j_rENtO3g"
      },
      "execution_count": 18,
      "outputs": []
    },
    {
      "cell_type": "code",
      "source": [
        "print(augment_prompt(query))"
      ],
      "metadata": {
        "colab": {
          "base_uri": "https://localhost:8080/"
        },
        "id": "5Z2qiQHVt1Sp",
        "outputId": "1f476e9f-3bc0-4838-a1f1-2a8fc661d870"
      },
      "execution_count": 19,
      "outputs": [
        {
          "output_type": "stream",
          "name": "stdout",
          "text": [
            "Using the contexts below, answer the query.\n",
            "\n",
            "  Contexts:\n",
            "  everywhere”     (The Vedas)  INTRODUCTION  The Bhagavad-Gita is a doctrine of universal truth and a book  of moral and spiritual growth. Its message is sublime and non-sec- tarian. It deals with the most sacred metaphysical science. It im- parts the knowledge of the Self and answers two universal ques- tions: Who am I, and how can I lead a happy and peaceful life in  this word full of dualities and dilemmas?   It's a timeless book of wisdom that inspired Thoreau, Emerson,  Einstein, Oppenheimer, Gandhi and many others. The Bhagavad- Gita teaches us how to equip ourselves for the battle of life. A re- peated study with faith purifies our psyche and guides us to face  the challenges of modern living leading to inner peace and happi- ness.  Gita teaches the spiritual science of Self-realization (SR) based  on the essence of Upanishads and Vedanta. The prime message  of the Gita is: The ultimate purpose of life is to realize one’s essen- tial nature and become one with the Supreme Self within all of us.  It assures spiritual progress for all\n",
            "BHAGAVAD-GITA in ENGLISH (Source)  For commentaries:  https://www.gita-society.com/Read-bhagavad-gita.html  CONTENTS  INTRODUCTION ...................................................... 1  1. Arjuna’s Dilemma .................................................. 3  2. Spiritual knowledge................................................ 3  The spirit is eternal, body is transitory ........................ 4  Death and Reincarnation of the soul .......................... 4  Duty of a warrior ......................................................... 5  Importance of Karma-yoga, the selfless action .......... 5  Material and spiritual aspects of life ........................... 6  Theory and practice of Karma-yoga ........................... 6  Marks of a Self-realized person .................................. 7  Dangers of unrestrained senses ................................ 7  Peace through sense control and Self-knowledge ..... 7  3. Path of Selfless service, Karma-yoga .................... 8  Why one should serve others? ................................... 8  The first commandment of the creator ....................... 9  Leaders should set an example ................................. 9  All works are the works of Nature ............................. 10  Two stumbling blocks on the path\n",
            "humans, and how to be one with  the Supreme. Its teachings are profound, universal, uplifting, and  sublime.   The  ignorance  of  metaphysical  or  Spiritual  knowledge—not  knowing our real identity—is humanity’s greatest predicament. It is  said that there is no human mind that cannot be purified by a re- peated study of the Gita. Gita explains the basic principles of spir- itual science— using Sanskrit poetry— in a very clear and inspiring  manner. Sacred relationship between the Creator and the creation  is well established in the Gita. If one lives in the spirit of even a few  verses of the Gita, one’s life will be transformed into divinity.   The philosophy of duty, devotion and Self-knowledge is won- derfully synthesized and harmonized in the Gita—without creating  any conflict among them—to give the reader eternal bliss, everlast- ing peace and perennial joy in life. It awakens Cosmic Conscious- ness and stimulates life with spirituality. Religion tends to create a  wall of division and conflicts along religious lines. Whereas, spirit- uality unites people by breaking those walls. A spiritual person is a\n",
            "\n",
            "  Query: What does bhagavadgita teach you?\n"
          ]
        }
      ]
    },
    {
      "cell_type": "code",
      "source": [
        "prompt = HumanMessage(\n",
        "    content = augment_prompt(query)\n",
        ")\n",
        "\n",
        "messages.append(prompt)\n",
        "\n",
        "res = chat(messages)\n",
        "print(res.content)"
      ],
      "metadata": {
        "colab": {
          "base_uri": "https://localhost:8080/"
        },
        "id": "_-WKSKsGt4zY",
        "outputId": "c414818c-8b3e-4ca8-b4d2-155c0a3814d5"
      },
      "execution_count": 28,
      "outputs": [
        {
          "output_type": "stream",
          "name": "stdout",
          "text": [
            "The Bhagavad Gita teaches us the spiritual science of Self-realization based on the essence of Upanishads and Vedanta. Its ultimate purpose is to realize one's essential nature and become one with the Supreme Self within all of us. The Gita imparts knowledge of the Self and provides guidance on how to lead a happy and peaceful life in a world full of dualities and dilemmas. By studying the Gita with faith, we can purify our psyche, face the challenges of modern living, and attain inner peace and happiness. The philosophy of duty, devotion, and Self-knowledge is harmonized in the Gita to bring eternal bliss, everlasting peace, and perennial joy in life.\n"
          ]
        }
      ]
    },
    {
      "cell_type": "code",
      "source": [
        "prompt = HumanMessage(\n",
        "    content = \"Who is lord Shree Krishna to Arjuna?\"\n",
        ")\n",
        "res = chat(messages+[prompt])\n",
        "print(res.content)"
      ],
      "metadata": {
        "colab": {
          "base_uri": "https://localhost:8080/"
        },
        "id": "yfitZ2qmuyDd",
        "outputId": "5650413b-f152-4c8d-ce5a-0604485b9af2"
      },
      "execution_count": 29,
      "outputs": [
        {
          "output_type": "stream",
          "name": "stdout",
          "text": [
            "In the Bhagavad Gita, Lord Shree Krishna is a divine charioteer and guide to Arjuna, who is a warrior prince and one of the Pandavas. Lord Krishna serves as Arjuna's mentor and imparts spiritual wisdom and guidance to him during a critical moment before the Kurukshetra War. Krishna reveals his divine form and teachings to Arjuna, helping him understand his duty, the nature of reality, and the path to spiritual fulfillment. Krishna is seen as the Supreme Being, the manifestation of the divine, and the ultimate source of wisdom and guidance in the Bhagavad Gita.\n"
          ]
        }
      ]
    },
    {
      "cell_type": "code",
      "source": [
        "prompt = HumanMessage(\n",
        "    content=augment_prompt(\n",
        "        \"What does Shri Krishna teach Arjuna during Mahabharath?\"\n",
        "    )\n",
        ")\n",
        "res = chat(messages+ [prompt])\n",
        "print(res.content)"
      ],
      "metadata": {
        "colab": {
          "base_uri": "https://localhost:8080/"
        },
        "id": "xX8pg8ofvJvM",
        "outputId": "8bc53ef3-9f05-4891-e8c2-be8a1a4c47e0"
      },
      "execution_count": 30,
      "outputs": [
        {
          "output_type": "stream",
          "name": "stdout",
          "text": [
            "Shri Krishna teaches Arjuna many important lessons during the Mahabharata war, as depicted in the Bhagavad Gita. Some of the key teachings include:\n",
            "\n",
            "1. **Duty and righteousness**: Krishna emphasizes the importance of fulfilling one's duty, or dharma, regardless of the circumstances. He encourages Arjuna to fight for justice and righteousness, even if it means facing his own family members in battle.\n",
            "\n",
            "2. **Selfless service**: Krishna teaches Arjuna the concept of selfless service, or karma-yoga, where one performs actions without attachment to the results. By focusing on the action itself and offering it to a higher purpose, one can attain spiritual growth and liberation.\n",
            "\n",
            "3. **Spiritual knowledge**: Krishna imparts spiritual knowledge to Arjuna, helping him understand the nature of the self, the eternal soul, and the transient nature of the physical body. This knowledge is meant to guide Arjuna towards self-realization and inner peace.\n",
            "\n",
            "4. **Renunciation and detachment**: Krishna explains the importance of renouncing attachment to the fruits of one's actions and remaining detached from the outcomes. By cultivating a sense of detachment, one can overcome desires and achieve spiritual freedom.\n",
            "\n",
            "Overall, Shri Krishna's teachings to Arjuna during the Mahabharata war serve as a guide for leading a righteous, purposeful, and spiritually fulfilling life.\n"
          ]
        }
      ]
    },
    {
      "cell_type": "code",
      "source": [],
      "metadata": {
        "id": "j04ES7jYvdU1"
      },
      "execution_count": null,
      "outputs": []
    }
  ],
  "metadata": {
    "colab": {
      "provenance": []
    },
    "kernelspec": {
      "display_name": "Python 3",
      "name": "python3"
    },
    "language_info": {
      "name": "python"
    }
  },
  "nbformat": 4,
  "nbformat_minor": 0
}